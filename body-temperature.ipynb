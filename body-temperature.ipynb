{
 "cells": [
  {
   "cell_type": "code",
   "execution_count": null,
   "metadata": {},
   "outputs": [],
   "source": [
    "import pandas as pd\n",
    "import pytz\n",
    "\n",
    "import kinsa\n",
    "import experiments\n",
    "import hourly\n",
    "import daily"
   ]
  },
  {
   "cell_type": "code",
   "execution_count": null,
   "outputs": [],
   "source": [
    "timezone = pytz.timezone(\"America/Los_Angeles\")\n",
    "df = kinsa.parse(\"kinsa.txt\", year=2020, timezone=timezone)\n",
    "df"
   ],
   "metadata": {
    "collapsed": false,
    "pycharm": {
     "name": "#%%\n"
    }
   }
  },
  {
   "cell_type": "code",
   "execution_count": null,
   "metadata": {},
   "outputs": [],
   "source": [
    "experiments.plot(df, [\n",
    "    (\"2020-05-18T21:00\", \"2020-05-18T21:58\", \"hot tea\"),\n",
    "    (\"2020-05-22T16:12\", \"2020-05-22T16:57\", \"hot tea\"),\n",
    "    (\"2020-05-22T17:39\", \"2020-05-22T18:08\", \"ice water\"),\n",
    "    (\"2020-05-23T12:06\", \"2020-05-23T12:39\", \"ice water\"),\n",
    "], timezone)"
   ]
  },
  {
   "cell_type": "code",
   "execution_count": null,
   "metadata": {},
   "outputs": [],
   "source": [
    "def between(df, begin, end):\n",
    "    begin = pd.to_datetime(begin).tz_localize(timezone)\n",
    "    end = pd.to_datetime(end).tz_localize(timezone)\n",
    "    return df[df.time.between(begin, end)]"
   ]
  },
  {
   "cell_type": "code",
   "execution_count": null,
   "metadata": {},
   "outputs": [],
   "source": [
    "hourly.plot(between(df, \"2020-05-24\", \"2020-06-01\"))"
   ]
  },
  {
   "cell_type": "code",
   "execution_count": null,
   "metadata": {},
   "outputs": [],
   "source": [
    "daily.plot(between(df, \"2020-06-02\", \"2021-06-02\"))"
   ]
  },
  {
   "cell_type": "code",
   "execution_count": null,
   "metadata": {},
   "outputs": [],
   "source": []
  }
 ],
 "metadata": {
  "kernelspec": {
   "display_name": "Python 3",
   "language": "python",
   "name": "python3"
  },
  "language_info": {
   "codemirror_mode": {
    "name": "ipython",
    "version": 3
   },
   "file_extension": ".py",
   "mimetype": "text/x-python",
   "name": "python",
   "nbconvert_exporter": "python",
   "pygments_lexer": "ipython3",
   "version": "3.8.3"
  }
 },
 "nbformat": 4,
 "nbformat_minor": 4
}