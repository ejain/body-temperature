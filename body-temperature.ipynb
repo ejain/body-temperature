{
 "cells": [
  {
   "cell_type": "code",
   "execution_count": null,
   "metadata": {},
   "outputs": [],
   "source": [
    "import importlib\n",
    "import pandas as pd\n",
    "import pytz\n",
    "\n",
    "import kinsa\n",
    "import experiments\n",
    "import hourly\n",
    "import daily\n",
    "import weekly"
   ]
  },
  {
   "cell_type": "code",
   "execution_count": null,
   "outputs": [],
   "source": [
    "timezone = pytz.timezone(\"America/Los_Angeles\")\n",
    "df = kinsa.parse(\"kinsa.txt\", year=2020, timezone=timezone)\n",
    "df"
   ],
   "metadata": {
    "collapsed": false,
    "pycharm": {
     "name": "#%%\n"
    },
    "tags": []
   }
  },
  {
   "cell_type": "code",
   "execution_count": null,
   "metadata": {},
   "outputs": [],
   "source": [
    "experiments.plot(df, [\n",
    "    (\"2020-05-18T21:00\", \"2020-05-18T21:58\", \"hot tea\"),\n",
    "    (\"2020-05-22T16:12\", \"2020-05-22T16:57\", \"hot tea\"),\n",
    "    (\"2020-05-22T17:39\", \"2020-05-22T18:08\", \"ice water\"),\n",
    "    (\"2020-05-23T12:06\", \"2020-05-23T12:39\", \"ice water\"),\n",
    "], timezone)"
   ]
  },
  {
   "cell_type": "code",
   "execution_count": null,
   "metadata": {},
   "outputs": [],
   "source": [
    "experiments.plot(df, [\n",
    "    (\"2020-07-15T10:40\", \"2020-07-15T10:55\", \"cold thermometer a\"),\n",
    "    (\"2020-07-15T11:00\", \"2020-07-15T11:19\", \"cold thermometer b\"),\n",
    "    (\"2020-07-15T17:25\", \"2020-07-15T17:42\", \"cold thermometer c\"),\n",
    "], timezone, time_range=[0, 20], value_range=[36, 38])"
   ]
  },
  {
   "cell_type": "code",
   "execution_count": null,
   "metadata": {},
   "outputs": [],
   "source": [
    "experiments.plot(df, [\n",
    "    (\"2020-07-16T12:52\", \"2020-07-16T14:35\", \"lunch\"),\n",
    "    (\"2020-07-21T12:45\", \"2020-07-21T14:46\", \"no lunch #1\"),\n",
    "    (\"2020-07-30T12:45\", \"2020-07-30T14:46\", \"no lunch #2\"),\n",
    "], timezone, time_range=[0, 120], value_range=[36, 38])"
   ]
  },
  {
   "cell_type": "code",
   "execution_count": null,
   "metadata": {},
   "outputs": [],
   "source": [
    "def between(df, begin, end):\n",
    "    begin = pd.to_datetime(begin).tz_localize(timezone)\n",
    "    end = pd.to_datetime(end).tz_localize(timezone)\n",
    "    return df[df.time.between(begin, end)]"
   ]
  },
  {
   "cell_type": "code",
   "execution_count": null,
   "metadata": {},
   "outputs": [],
   "source": [
    "hourly.plot(between(df, \"2020-05-24\", \"2020-06-01\"))"
   ]
  },
  {
   "cell_type": "code",
   "execution_count": null,
   "metadata": {},
   "outputs": [],
   "source": [
    "daily.plot(between(df, \"2020-08-20\", \"2020-09-10\")) # jetlag"
   ]
  },
  {
   "cell_type": "code",
   "execution_count": null,
   "metadata": {},
   "outputs": [],
   "source": [
    "weekly.plot(between(df, \"2020-06-02\", \"2021-06-02\"))"
   ]
  },
  {
   "cell_type": "code",
   "execution_count": null,
   "metadata": {},
   "outputs": [],
   "source": []
  }
 ],
 "metadata": {
  "kernelspec": {
   "name": "python3",
   "display_name": "Python 3.8.5 64-bit ('qs-notebooks': conda)",
   "metadata": {
    "interpreter": {
     "hash": "17a6c24e26c96f1e56c6fc80832562fa77856a72db978e4ec72b979bcb52596d"
    }
   }
  },
  "language_info": {
   "codemirror_mode": {
    "name": "ipython",
    "version": 3
   },
   "file_extension": ".py",
   "mimetype": "text/x-python",
   "name": "python",
   "nbconvert_exporter": "python",
   "pygments_lexer": "ipython3",
   "version": "3.8.5-final"
  }
 },
 "nbformat": 4,
 "nbformat_minor": 4
}