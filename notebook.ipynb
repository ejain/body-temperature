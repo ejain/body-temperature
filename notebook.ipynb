{
 "cells": [
  {
   "cell_type": "code",
   "execution_count": null,
   "metadata": {},
   "outputs": [],
   "source": [
    "import pandas as pd\n",
    "import pytz\n",
    "\n",
    "from src import kinsa\n",
    "from src import experiments\n",
    "from src import hourly\n",
    "from src import daily\n",
    "from src import weekly\n",
    "from src import travel"
   ]
  },
  {
   "cell_type": "code",
   "execution_count": null,
   "metadata": {},
   "outputs": [],
   "source": [
    "def between(df, begin, end):\n",
    "    begin = pd.to_datetime(begin).tz_localize(timezone)\n",
    "    end = pd.to_datetime(end).tz_localize(timezone)\n",
    "    return df[df.time.between(begin, end)]"
   ]
  },
  {
   "cell_type": "code",
   "execution_count": null,
   "metadata": {
    "collapsed": false,
    "jupyter": {
     "outputs_hidden": false
    },
    "pycharm": {
     "name": "#%%\n"
    },
    "tags": []
   },
   "outputs": [],
   "source": [
    "timezone = pytz.timezone(\"America/Los_Angeles\")\n",
    "df = kinsa.parse(\"data/kinsa.txt\", timezone=timezone)\n",
    "df"
   ]
  },
  {
   "cell_type": "code",
   "execution_count": null,
   "metadata": {},
   "outputs": [],
   "source": [
    "df_t = travel.read_travel(\"data/travel.csv\", timezone)\n",
    "df_t"
   ]
  },
  {
   "cell_type": "code",
   "execution_count": null,
   "metadata": {},
   "outputs": [],
   "source": [
    "experiments.plot(df, [\n",
    "    (\"2020-05-18T21:00\", \"2020-05-18T21:58\", \"hot tea\"),\n",
    "    (\"2020-05-22T16:12\", \"2020-05-22T16:57\", \"hot tea\"),\n",
    "    (\"2020-05-22T17:39\", \"2020-05-22T18:08\", \"ice water\"),\n",
    "    (\"2020-05-23T12:06\", \"2020-05-23T12:39\", \"ice water\"),\n",
    "], timezone)"
   ]
  },
  {
   "cell_type": "code",
   "execution_count": null,
   "metadata": {},
   "outputs": [],
   "source": [
    "experiments.plot(df, [\n",
    "    (\"2020-07-15T10:40\", \"2020-07-15T10:55\", \"cold thermometer a\"),\n",
    "    (\"2020-07-15T11:00\", \"2020-07-15T11:19\", \"cold thermometer b\"),\n",
    "    (\"2020-07-15T17:25\", \"2020-07-15T17:42\", \"cold thermometer c\"),\n",
    "], timezone, time_range=[0, 20], value_range=[36, 38])"
   ]
  },
  {
   "cell_type": "code",
   "execution_count": null,
   "metadata": {},
   "outputs": [],
   "source": [
    "experiments.plot(df, [\n",
    "    (\"2020-07-16T12:52\", \"2020-07-16T14:35\", \"lunch\"),\n",
    "    (\"2020-07-21T12:45\", \"2020-07-21T14:46\", \"no lunch #1\"),\n",
    "    (\"2020-07-30T12:45\", \"2020-07-30T14:46\", \"no lunch #2\"),\n",
    "], timezone, time_range=[0, 120], value_range=[36, 38])"
   ]
  },
  {
   "cell_type": "code",
   "execution_count": null,
   "metadata": {},
   "outputs": [],
   "source": [
    "hourly.plot(between(df, \"2020-05-24\", \"2020-06-01\"))"
   ]
  },
  {
   "cell_type": "code",
   "execution_count": null,
   "metadata": {},
   "outputs": [],
   "source": [
    "daily.plot(between(df, \"2020-08-20\", \"2020-09-10\")) # jetlag"
   ]
  },
  {
   "cell_type": "code",
   "execution_count": null,
   "metadata": {},
   "outputs": [],
   "source": [
    "daily.plot(between(df, \"2021-06-17\", \"2021-07-10\")) # jetlag -9h on 2021-06-24 and +9h on 2021-07-03"
   ]
  },
  {
   "cell_type": "code",
   "execution_count": null,
   "metadata": {},
   "outputs": [],
   "source": [
    "daily.plot(between(df, \"2021-09-21\", \"2021-10-19\")) # jetlag -9h on 2021-09-25 and +9h on 2021-10-09"
   ]
  },
  {
   "cell_type": "code",
   "execution_count": null,
   "metadata": {},
   "outputs": [],
   "source": [
    "daily.plot(between(df, \"2021-12-12\", \"2022-02-07\")) # jetlag -9h on 2021-12-14 and +9h on 2022-01-10"
   ]
  },
  {
   "cell_type": "code",
   "execution_count": null,
   "metadata": {},
   "outputs": [],
   "source": [
    "daily.plot(between(df, \"2022-09-16\", \"2022-10-14\")) # jetlag -9h on 2022-09-20 and +9h on 2022-09-30"
   ]
  },
  {
   "cell_type": "code",
   "execution_count": null,
   "metadata": {},
   "outputs": [],
   "source": [
    "daily.plot(between(df, \"2022-07-01\", \"2022-08-02\")) # heat wave"
   ]
  },
  {
   "cell_type": "code",
   "execution_count": null,
   "metadata": {},
   "outputs": [],
   "source": [
    "weekly.plot(between(df, \"2020-06-02\", \"2023-06-02\"), df_t)"
   ]
  },
  {
   "cell_type": "code",
   "execution_count": null,
   "metadata": {},
   "outputs": [],
   "source": []
  }
 ],
 "metadata": {
  "interpreter": {
   "hash": "5e42fc76c2e63ce74b67028016ac4030400fa14c93578560bf36d8a37b1f9b2a"
  },
  "kernelspec": {
   "display_name": "Python 3.8.13 ('body-temperature')",
   "language": "python",
   "name": "python3"
  },
  "language_info": {
   "codemirror_mode": {
    "name": "ipython",
    "version": 3
   },
   "file_extension": ".py",
   "mimetype": "text/x-python",
   "name": "python",
   "nbconvert_exporter": "python",
   "pygments_lexer": "ipython3",
   "version": "3.11.0"
  }
 },
 "nbformat": 4,
 "nbformat_minor": 4
}
