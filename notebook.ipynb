{
 "cells": [
  {
   "cell_type": "code",
   "execution_count": null,
   "metadata": {},
   "outputs": [],
   "source": [
    "import pandas as pd\n",
    "import pytz\n",
    "\n",
    "from src import kinsa\n",
    "from src import experiments\n",
    "from src import hourly\n",
    "from src import daily\n",
    "from src import weekly"
   ]
  },
  {
   "cell_type": "code",
   "execution_count": null,
   "metadata": {
    "collapsed": false,
    "jupyter": {
     "outputs_hidden": false
    },
    "pycharm": {
     "name": "#%%\n"
    },
    "tags": []
   },
   "outputs": [],
   "source": [
    "timezone = pytz.timezone(\"America/Los_Angeles\")\n",
    "df = kinsa.parse(\"data/kinsa_2020.txt\", year=2020, timezone=timezone)\n",
    "df = df.append(kinsa.parse(\"data/kinsa_2021.txt\", year=2021, timezone=timezone), ignore_index=True)\n",
    "df"
   ]
  },
  {
   "cell_type": "code",
   "execution_count": null,
   "metadata": {},
   "outputs": [],
   "source": [
    "experiments.plot(df, [\n",
    "    (\"2020-05-18T21:00\", \"2020-05-18T21:58\", \"hot tea\"),\n",
    "    (\"2020-05-22T16:12\", \"2020-05-22T16:57\", \"hot tea\"),\n",
    "    (\"2020-05-22T17:39\", \"2020-05-22T18:08\", \"ice water\"),\n",
    "    (\"2020-05-23T12:06\", \"2020-05-23T12:39\", \"ice water\"),\n",
    "], timezone)"
   ]
  },
  {
   "cell_type": "code",
   "execution_count": null,
   "metadata": {},
   "outputs": [],
   "source": [
    "experiments.plot(df, [\n",
    "    (\"2020-07-15T10:40\", \"2020-07-15T10:55\", \"cold thermometer a\"),\n",
    "    (\"2020-07-15T11:00\", \"2020-07-15T11:19\", \"cold thermometer b\"),\n",
    "    (\"2020-07-15T17:25\", \"2020-07-15T17:42\", \"cold thermometer c\"),\n",
    "], timezone, time_range=[0, 20], value_range=[36, 38])"
   ]
  },
  {
   "cell_type": "code",
   "execution_count": null,
   "metadata": {},
   "outputs": [],
   "source": [
    "experiments.plot(df, [\n",
    "    (\"2020-07-16T12:52\", \"2020-07-16T14:35\", \"lunch\"),\n",
    "    (\"2020-07-21T12:45\", \"2020-07-21T14:46\", \"no lunch #1\"),\n",
    "    (\"2020-07-30T12:45\", \"2020-07-30T14:46\", \"no lunch #2\"),\n",
    "], timezone, time_range=[0, 120], value_range=[36, 38])"
   ]
  },
  {
   "cell_type": "code",
   "execution_count": null,
   "metadata": {},
   "outputs": [],
   "source": [
    "def between(df, begin, end):\n",
    "    begin = pd.to_datetime(begin).tz_localize(timezone)\n",
    "    end = pd.to_datetime(end).tz_localize(timezone)\n",
    "    return df[df.time.between(begin, end)]"
   ]
  },
  {
   "cell_type": "code",
   "execution_count": null,
   "metadata": {},
   "outputs": [],
   "source": [
    "hourly.plot(between(df, \"2020-05-24\", \"2020-06-01\"))"
   ]
  },
  {
   "cell_type": "code",
   "execution_count": null,
   "metadata": {},
   "outputs": [],
   "source": [
    "daily.plot(between(df, \"2020-08-20\", \"2020-09-10\")) # jetlag"
   ]
  },
  {
   "cell_type": "code",
   "execution_count": null,
   "metadata": {},
   "outputs": [],
   "source": [
    "weekly.plot(between(df, \"2020-06-02\", \"2021-06-02\"))"
   ]
  },
  {
   "cell_type": "code",
   "execution_count": null,
   "metadata": {},
   "outputs": [],
   "source": []
  }
 ],
 "metadata": {
  "kernelspec": {
   "name": "python3",
   "display_name": "Python 3.8.6 64-bit ('body-temperature': conda)",
   "metadata": {
    "interpreter": {
     "hash": "ffa81adf4b2cbc445c218ef0d6955721101f80e6e3c8bbf513db9ea8f4cfb7d7"
    }
   }
  },
  "language_info": {
   "codemirror_mode": {
    "name": "ipython",
    "version": 3
   },
   "file_extension": ".py",
   "mimetype": "text/x-python",
   "name": "python",
   "nbconvert_exporter": "python",
   "pygments_lexer": "ipython3",
   "version": "3.8.6-final"
  }
 },
 "nbformat": 4,
 "nbformat_minor": 4
}